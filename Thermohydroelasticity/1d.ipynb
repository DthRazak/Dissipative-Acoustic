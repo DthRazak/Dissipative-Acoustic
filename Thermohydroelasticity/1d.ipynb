{
 "cells": [
  {
   "cell_type": "code",
   "execution_count": 1,
   "id": "aa391038-15cd-430f-8eb0-6300d50462de",
   "metadata": {},
   "outputs": [],
   "source": [
    "from dolfinx import cpp as _cpp\n",
    "from dolfinx import geometry, fem, mesh, plot, io\n",
    "from mpi4py import MPI\n",
    "from petsc4py import PETSc\n",
    "from petsc4py.PETSc import ScalarType, ComplexType\n",
    "from ufl import (TrialFunction, Measure, TestFunction, dx, ds, grad, div, inner, lhs, rhs)\n",
    "\n",
    "import timeit\n",
    "import numpy as np\n",
    "import pandas as pd\n",
    "\n",
    "from utils.dolfinx import BoundaryCondition, generate_boundary_measure, eval_pointvalues, project\n",
    "from utils.plotting import Mpl2DPlotter\n",
    "\n",
    "from pathlib import Path\n",
    "\n",
    "import ufl\n",
    "from matplotlib import pyplot as plt"
   ]
  },
  {
   "cell_type": "code",
   "execution_count": 2,
   "id": "7c6f367c-3dba-4b65-9425-dbcc0caf6893",
   "metadata": {},
   "outputs": [],
   "source": [
    "save_dir = \"./results/1d\"\n",
    "Path(save_dir).mkdir(parents=True, exist_ok=True)"
   ]
  },
  {
   "cell_type": "code",
   "execution_count": 3,
   "id": "86d19f98-b909-4f13-ab8d-24cec0af6d26",
   "metadata": {},
   "outputs": [],
   "source": [
    "def generate_boundaries(points):\n",
    "    return [(1, lambda x: np.isclose(x[0], points[0])), \n",
    "            (2, lambda x: np.isclose(x[0], points[1]))]"
   ]
  },
  {
   "cell_type": "code",
   "execution_count": 4,
   "id": "352e3e80-f42e-46bd-b99a-22dbe32e6061",
   "metadata": {},
   "outputs": [],
   "source": [
    "def problem_setup(N: int,\n",
    "                  points: list[float, float],\n",
    "                  Theta0: float,\n",
    "                  T: float,\n",
    "                  dt: float,\n",
    "                  fluid: str):\n",
    "    \"\"\"\n",
    "    Performs problem configuration w.r.t. given parameters\n",
    "    \"\"\"\n",
    "    \n",
    "    # Mesh and function space definition\n",
    "    domain = mesh.create_interval(MPI.COMM_WORLD, N, points)\n",
    "    V = fem.FunctionSpace(domain, (\"CG\", 1))\n",
    "    G = fem.FunctionSpace(domain, (\"CG\", 1))\n",
    "    \n",
    "\n",
    "    (u, theta) = TrialFunction(V), TrialFunction(G)\n",
    "    (v, g) = TestFunction(V), TestFunction(G)\n",
    "    \n",
    "    # Definition of density and speed functions\n",
    "    ro, c, eta, cv, ksi, alpha = fluids.loc[fluid, ['Density', 'Speed of sound', 'Viscosity', \n",
    "                                                    'Heat', 'Thermal conductivity', 'Thermal expansion']]\n",
    "        \n",
    "    # Construction of bilinear form and linear functional\n",
    "    GAMMA, BETA = 0.5, 0.5\n",
    "    \n",
    "    mm = ScalarType(ro) * inner(u, v) * dx\n",
    "    aa = ScalarType(ro * c**2) * inner(grad(u), grad(v)) * dx\n",
    "    cc = ScalarType(4./3 * eta) * inner(grad(u), grad(v)) * dx\n",
    "    \n",
    "    ss = ScalarType(cv) * inner(theta, g) * dx\n",
    "    bb_1 = ScalarType(Theta0 * alpha * eta) * inner(theta, v.dx(0)) * dx\n",
    "    bb_2 = ScalarType(Theta0 * alpha * eta) * inner(g, u.dx(0)) * dx\n",
    "    kk = ScalarType(ksi) * inner(grad(theta), grad(g)) * dx\n",
    "    \n",
    "    F = fem.form([[mm + (dt * GAMMA * cc) + (0.5 * dt * dt * BETA * aa), -dt * GAMMA * bb_1], \n",
    "                  [-dt * GAMMA * bb_2, ss + dt * GAMMA * kk]])\n",
    "    \n",
    "    boundaries = generate_boundaries(points)\n",
    "    measure = generate_boundary_measure(boundaries, domain)\n",
    "    \n",
    "    u_D = lambda x: x[0] * 0.0\n",
    "    theta_D = lambda x: x[0] * 0.0\n",
    "    u_N1 = fem.Constant(domain, ScalarType(-1.0))\n",
    "    u_N2 = fem.Constant(domain, ScalarType(0.0))\n",
    "    \n",
    "    bcs = [BoundaryCondition(\"Dirichlet\", 1, u_D, V, u, v, measure).bc, \n",
    "           BoundaryCondition(\"Dirichlet\", 1, theta_D, G, theta, g, measure).bc]\n",
    "    nbcs = [BoundaryCondition(\"Neumann\", 2, u_N1, V, u, v, measure).bc,\n",
    "            BoundaryCondition(\"Neumann\", 2, u_N2, V, u, v, measure).bc] \n",
    "    \n",
    "    return {\n",
    "        'Params': (N, points, fluid, ro, c, Theta0, T, dt, GAMMA, BETA),\n",
    "        'FunctionSpace': (domain, V, u, v, G, theta, g),\n",
    "        'Forms': (mm, aa, cc, ss, bb_1, bb_2, kk), \n",
    "        'Problem': (F, bcs, nbcs)\n",
    "    }"
   ]
  },
  {
   "cell_type": "code",
   "execution_count": 5,
   "id": "a1f919b0-910b-4037-b90a-aa5083a1bf8c",
   "metadata": {},
   "outputs": [],
   "source": [
    "def solve_problem(config):\n",
    "    N, points, fluid, ro, c, Theta0, T, dt, GAMMA, BETA = config['Params']\n",
    "    domain, V, u, v, G, theta, g = config['FunctionSpace']\n",
    "    mm, aa, cc, ss, bb_1, bb_2, kk = config['Forms']\n",
    "    F, bcs, nbcs = config['Problem']\n",
    "    \n",
    "    # Create initial condition\n",
    "    u_initial_condition = lambda x: x[0] * 0.0\n",
    "    theta_initial_condition = lambda x: x[0] * Theta0\n",
    "    \n",
    "    uj = fem.Function(V)\n",
    "    uj_d = fem.Function(V)\n",
    "    uj_d_d_tg = fem.Function(V)\n",
    "    uj_dd = fem.Function(V)\n",
    "    thetaj = fem.Function(G)\n",
    "    thetaj_d = fem.Function(G)\n",
    "    \n",
    "    uj.interpolate(u_initial_condition)\n",
    "    uj_d.interpolate(u_initial_condition)\n",
    "    uj_d_d_tg.interpolate(u_initial_condition)\n",
    "    uj_dd.interpolate(u_initial_condition)\n",
    "    thetaj.interpolate(theta_initial_condition)\n",
    "    thetaj_d.interpolate(theta_initial_condition)\n",
    "    \n",
    "    # Construct the left and right hand side of the problem\n",
    "    a00 = fem.petsc.assemble_matrix(F[0][0])\n",
    "    a01 = fem.petsc.assemble_matrix(F[0][1])\n",
    "    a10 = fem.petsc.assemble_matrix(F[1][0])\n",
    "    a11 = fem.petsc.assemble_matrix(F[1][1])\n",
    "    map(PETSc.Mat.assemble, [a00, a01, a10, a11])\n",
    "\n",
    "    A = PETSc.Mat().createNest([[a00, a01], \n",
    "                                [a10, a11]])\n",
    "    A.assemble()\n",
    "    \n",
    "    solver = PETSc.KSP().create(domain.comm)\n",
    "    solver.setOperators(A)\n",
    "    solver.setType(PETSc.KSP.Type.PREONLY)\n",
    "    solver.getPC().setType(PETSc.PC.Type.FIELDSPLIT)\n",
    "    solver.getPC().setFieldSplitType(PETSc.PC.CompositeType.ADDITIVE)\n",
    "\n",
    "    # return A\n",
    "    # Solve problem at each time step,\n",
    "    num_steps = int(T / dt)\n",
    "    t = 0.0\n",
    "    for i in range(num_steps):\n",
    "        t += dt\n",
    "        \n",
    "        idx = 0 if t < 1.68e-6 else 1\n",
    "        \n",
    "        uj_d_d_tg.x.array[:] = dt * GAMMA * uj_d.x.array\n",
    "        \n",
    "        L = nbcs[idx] + (cc * uj_d) + (aa * uj) + (aa * uj_d_d_tg) - (bb_1 * thetaj)\n",
    "        Z = (kk * thetaj) + (bb_2 * uj_d)\n",
    "        \n",
    "        linear_form = fem.form([rhs(L), rhs(Z)])\n",
    "        \n",
    "        b = fem.petsc.assemble_vector_nest(linear_form)\n",
    "        # print(b.array)\n",
    "        # Modify ('lift') the RHS for Dirichlet boundary conditions\n",
    "        fem.petsc.apply_lifting_nest(b, F, bcs=bcs)\n",
    "\n",
    "        # Sum contributions from ghost entries on the owner\n",
    "        for b_sub in b.getNestSubVecs():\n",
    "            b_sub.ghostUpdate(addv=PETSc.InsertMode.ADD, mode=PETSc.ScatterMode.REVERSE)\n",
    "\n",
    "        # Set Dirichlet boundary condition values in the RHS\n",
    "        bcs0 = fem.bcs_by_block(fem.extract_function_spaces(linear_form), bcs)\n",
    "        fem.petsc.set_bc_nest(b, bcs0)\n",
    "        \n",
    "        x = PETSc.Vec().createNest([_cpp.la.petsc.create_vector_wrap(uj_dd.x), \n",
    "                                    _cpp.la.petsc.create_vector_wrap(thetaj_d.x)])\n",
    "        solver.solve(b, x)\n",
    "        uj_dd.x.scatter_forward()\n",
    "        thetaj_d.x.scatter_forward()\n",
    "      \n",
    "        # Update solution\n",
    "        \n",
    "        uj.x.array[:] = uj.x.array + dt * uj_d.x.array + 0.5 * dt**2 * uj_dd.x.array\n",
    "        uj_d.x.array[:] = uj_d.x.array + dt * uj_dd.x.array\n",
    "        \n",
    "        thetaj.x.array[:] = thetaj.x.array + dt * thetaj_d.x.array \n",
    "        \n",
    "    return (uj, uj_d, uj_dd, thetaj, thetaj_d)"
   ]
  },
  {
   "cell_type": "markdown",
   "id": "eaf1495c-8ff2-4624-9d3e-abae368b191f",
   "metadata": {},
   "source": [
    "#### Available fluids"
   ]
  },
  {
   "cell_type": "code",
   "execution_count": 6,
   "id": "1f77c5c3-e5a7-4d10-a27f-200379359ba0",
   "metadata": {},
   "outputs": [
    {
     "data": {
      "text/html": [
       "<div>\n",
       "<style scoped>\n",
       "    .dataframe tbody tr th:only-of-type {\n",
       "        vertical-align: middle;\n",
       "    }\n",
       "\n",
       "    .dataframe tbody tr th {\n",
       "        vertical-align: top;\n",
       "    }\n",
       "\n",
       "    .dataframe thead th {\n",
       "        text-align: right;\n",
       "    }\n",
       "</style>\n",
       "<table border=\"1\" class=\"dataframe\">\n",
       "  <thead>\n",
       "    <tr style=\"text-align: right;\">\n",
       "      <th></th>\n",
       "      <th>Density</th>\n",
       "      <th>Speed of sound</th>\n",
       "      <th>Viscosity</th>\n",
       "      <th>Heat</th>\n",
       "      <th>Thermal conductivity</th>\n",
       "      <th>Thermal expansion</th>\n",
       "    </tr>\n",
       "    <tr>\n",
       "      <th>Fluid</th>\n",
       "      <th></th>\n",
       "      <th></th>\n",
       "      <th></th>\n",
       "      <th></th>\n",
       "      <th></th>\n",
       "      <th></th>\n",
       "    </tr>\n",
       "  </thead>\n",
       "  <tbody>\n",
       "    <tr>\n",
       "      <th>Water</th>\n",
       "      <td>1000</td>\n",
       "      <td>1500</td>\n",
       "      <td>0.000894</td>\n",
       "      <td>4182.0</td>\n",
       "      <td>0.598</td>\n",
       "      <td>0.00015</td>\n",
       "    </tr>\n",
       "    <tr>\n",
       "      <th>Fuel oil</th>\n",
       "      <td>890</td>\n",
       "      <td>1360</td>\n",
       "      <td>2.022000</td>\n",
       "      <td>NaN</td>\n",
       "      <td>NaN</td>\n",
       "      <td>NaN</td>\n",
       "    </tr>\n",
       "    <tr>\n",
       "      <th>Oil</th>\n",
       "      <td>760</td>\n",
       "      <td>1470</td>\n",
       "      <td>0.000500</td>\n",
       "      <td>NaN</td>\n",
       "      <td>NaN</td>\n",
       "      <td>NaN</td>\n",
       "    </tr>\n",
       "    <tr>\n",
       "      <th>Glycerin</th>\n",
       "      <td>1260</td>\n",
       "      <td>1905</td>\n",
       "      <td>1.500000</td>\n",
       "      <td>NaN</td>\n",
       "      <td>NaN</td>\n",
       "      <td>NaN</td>\n",
       "    </tr>\n",
       "  </tbody>\n",
       "</table>\n",
       "</div>"
      ],
      "text/plain": [
       "          Density  Speed of sound  Viscosity    Heat  Thermal conductivity  \\\n",
       "Fluid                                                                        \n",
       "Water        1000            1500   0.000894  4182.0                 0.598   \n",
       "Fuel oil      890            1360   2.022000     NaN                   NaN   \n",
       "Oil           760            1470   0.000500     NaN                   NaN   \n",
       "Glycerin     1260            1905   1.500000     NaN                   NaN   \n",
       "\n",
       "          Thermal expansion  \n",
       "Fluid                        \n",
       "Water               0.00015  \n",
       "Fuel oil                NaN  \n",
       "Oil                     NaN  \n",
       "Glycerin                NaN  "
      ]
     },
     "execution_count": 6,
     "metadata": {},
     "output_type": "execute_result"
    }
   ],
   "source": [
    "fluids = pd.read_csv('../data/physical_properties.csv', sep=';', index_col='Fluid')\n",
    "fluids"
   ]
  },
  {
   "cell_type": "code",
   "execution_count": 7,
   "id": "de5161f7-4d14-41b3-8459-60666cb9ca6c",
   "metadata": {},
   "outputs": [],
   "source": [
    "config = problem_setup(N=200, \n",
    "                       points=[0.0, 0.01],\n",
    "                       Theta0=293.0,\n",
    "                       T=2.025e-5,\n",
    "                       dt=5.4e-9,\n",
    "                       fluid='Water')"
   ]
  },
  {
   "cell_type": "code",
   "execution_count": 8,
   "id": "f75e2b7b-679d-4b99-a4e8-c5256d35a551",
   "metadata": {},
   "outputs": [],
   "source": [
    "res = solve_problem(config)"
   ]
  },
  {
   "cell_type": "code",
   "execution_count": 9,
   "id": "634415f5-2f14-491d-8806-2a4f91f2d8d3",
   "metadata": {},
   "outputs": [],
   "source": [
    "uj, uj_d, uj_dd, thetaj, thetaj_d = res"
   ]
  },
  {
   "cell_type": "code",
   "execution_count": 10,
   "id": "76de7c9c-e3f8-4e96-a854-afe383cfc637",
   "metadata": {},
   "outputs": [
    {
     "data": {
      "text/plain": [
       "[<matplotlib.lines.Line2D at 0x7fee63f3eef0>]"
      ]
     },
     "execution_count": 10,
     "metadata": {},
     "output_type": "execute_result"
    },
    {
     "data": {
      "image/png": "[encoded data removed]",
      "text/plain": [
       "<Figure size 432x288 with 1 Axes>"
      ]
     },
     "metadata": {
      "needs_background": "light"
     },
     "output_type": "display_data"
    }
   ],
   "source": [
    "plt.plot(res[1].x.array)"
   ]
  },
  {
   "cell_type": "code",
   "execution_count": null,
   "id": "23101503-38d1-4433-a371-f130ffb5289b",
   "metadata": {},
   "outputs": [],
   "source": []
  }
 ],
 "metadata": {
  "kernelspec": {
   "display_name": "Python 3 (ipykernel)",
   "language": "python",
   "name": "python3"
  },
  "language_info": {
   "codemirror_mode": {
    "name": "ipython",
    "version": 3
   },
   "file_extension": ".py",
   "mimetype": "text/x-python",
   "name": "python",
   "nbconvert_exporter": "python",
   "pygments_lexer": "ipython3",
   "version": "3.10.4"
  }
 },
 "nbformat": 4,
 "nbformat_minor": 5
}
