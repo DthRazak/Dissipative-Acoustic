{
 "cells": [
  {
   "cell_type": "code",
   "execution_count": 1,
   "id": "7f8b8bcc-04e4-486e-b4ad-322e9417e100",
   "metadata": {},
   "outputs": [],
   "source": [
    "import random\n",
    "import numpy as np\n",
    "\n",
    "from meshes import rectangle_builder"
   ]
  },
  {
   "cell_type": "markdown",
   "id": "4203fc7d-afdd-4d2a-912e-d27712c05ffd",
   "metadata": {},
   "source": [
    "## In this notebook we create input data for `Rectangle Model` problems"
   ]
  },
  {
   "cell_type": "code",
   "execution_count": 2,
   "id": "291b141b-8391-4d26-b181-d8e7b468685d",
   "metadata": {},
   "outputs": [],
   "source": [
    "def generate_contamination_lvl():\n",
    "    segment_num = random.expovariate(0.5) + 1\n",
    "    segment_num = int(np.round(np.clip(segment_num, 0, 9)))\n",
    "    \n",
    "    bubble_lvl = np.zeros(10)\n",
    "    for i in range(segment_num):\n",
    "        segment_idx = random.normalvariate(5, 3)\n",
    "        segment_idx = int(np.round(np.clip(segment_idx, 0, 9)))\n",
    "    \n",
    "        contamination_lvl = random.normalvariate(0.25, 0.1)\n",
    "        contamination_lvl = np.round(np.clip(contamination_lvl, 0.0, 0.5), 4)\n",
    "        \n",
    "        bubble_lvl[segment_idx] = contamination_lvl\n",
    "    \n",
    "    return bubble_lvl"
   ]
  },
  {
   "cell_type": "code",
   "execution_count": 3,
   "id": "51b32da0-375d-459d-9c2d-b579c17e1b29",
   "metadata": {},
   "outputs": [],
   "source": [
    "INPUT_SIZE = 1000\n",
    "\n",
    "with open(f'./input/input_{INPUT_SIZE}.txt', 'w') as input_file:\n",
    "    input_file.write(';'.join(str(num) for num in np.zeros(10)))\n",
    "    input_file.write('|\\n')\n",
    "    \n",
    "    for i in range(INPUT_SIZE-1):\n",
    "        bubble_lvl = generate_contamination_lvl()\n",
    "        bubble_centres, bubble_lvl = rectangle_builder.generate_bubbles(0.05, bubble_lvl)\n",
    "        \n",
    "        input_file.write(';'.join(str(num) for num in bubble_lvl))\n",
    "        input_file.write('|')\n",
    "        input_file.write(';'.join(f'{x},{y}' for x, y in bubble_centres))\n",
    "        input_file.write('\\n')"
   ]
  },
  {
   "cell_type": "code",
   "execution_count": null,
   "id": "4e95724e-436e-4ec3-b46c-8578084edd76",
   "metadata": {},
   "outputs": [],
   "source": []
  }
 ],
 "metadata": {
  "kernelspec": {
   "display_name": "Python 3 (ipykernel)",
   "language": "python",
   "name": "python3"
  },
  "language_info": {
   "codemirror_mode": {
    "name": "ipython",
    "version": 3
   },
   "file_extension": ".py",
   "mimetype": "text/x-python",
   "name": "python",
   "nbconvert_exporter": "python",
   "pygments_lexer": "ipython3",
   "version": "3.10.6"
  }
 },
 "nbformat": 4,
 "nbformat_minor": 5
}
