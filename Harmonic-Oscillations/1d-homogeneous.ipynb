{
 "cells": [
  {
   "cell_type": "code",
   "execution_count": 1,
   "id": "9323f1c3-c905-46c9-a4e7-90ada966e65b",
   "metadata": {},
   "outputs": [],
   "source": [
    "from dolfinx import fem, mesh\n",
    "from mpi4py import MPI\n",
    "from petsc4py.PETSc import ScalarType \n",
    "from ufl import (TrialFunction, TestFunction, dx, ds, grad, inner)\n",
    "\n",
    "import timeit\n",
    "import numpy as np\n",
    "import pandas as pd\n",
    "\n",
    "from matplotlib import pyplot as plt"
   ]
  },
  {
   "cell_type": "code",
   "execution_count": 2,
   "id": "acecf646-a506-425e-99d2-69aa5e958019",
   "metadata": {},
   "outputs": [],
   "source": [
    "def problem_setup(N: int, \n",
    "                  points: list[float, float], \n",
    "                  fluid: str, \n",
    "                  freq: float, \n",
    "                  pressure: float):\n",
    "    \"\"\"\n",
    "    Performs problem configuration w.r.t. given parameters\n",
    "    \"\"\"\n",
    "    \n",
    "    # Mesh and function space definition\n",
    "    domain = mesh.create_interval(MPI.COMM_WORLD, N, points)\n",
    "    V = fem.FunctionSpace(domain, (\"CG\", 1))\n",
    "\n",
    "    u = TrialFunction(V)\n",
    "    v = TestFunction(V)\n",
    "    \n",
    "    # Construction of bilinear form and linear functional\n",
    "    ro, c = fluids.loc[fluid, ['Density', 'Speed of sound']]\n",
    "    omega = freq * 2 * np.pi\n",
    "    \n",
    "    aa = ScalarType(ro * c**2) * inner(grad(u), grad(v)) * dx\n",
    "    mm = ScalarType(ro) * inner(u, v) * dx\n",
    "\n",
    "    Left = aa - omega**2 * mm\n",
    "    Right = pressure * v * ds\n",
    "    \n",
    "    # Setting Dirichlet boundary condition\n",
    "    def LeftBoundary(x):\n",
    "        return np.isclose(x[0], 0)\n",
    "    \n",
    "    boundary_dofs = fem.locate_dofs_geometrical(V, LeftBoundary)\n",
    "    bc = fem.dirichletbc(fem.Constant(domain, ScalarType(0.0)), boundary_dofs, V)\n",
    "    \n",
    "    return {\n",
    "        'Params': (fluid, points, c, ro, omega, pressure),\n",
    "        'FunctionSpace': (domain, V, u, v),\n",
    "        'Problem': (Left, Right, bc)\n",
    "    }"
   ]
  },
  {
   "cell_type": "markdown",
   "id": "db22f202-fc8b-4678-a9d6-035713e0d8f9",
   "metadata": {},
   "source": [
    "#### Available fluids"
   ]
  },
  {
   "cell_type": "code",
   "execution_count": 3,
   "id": "6ca7acf6-0173-4def-8c71-20e75328177b",
   "metadata": {},
   "outputs": [
    {
     "data": {
      "text/html": [
       "<div>\n",
       "<style scoped>\n",
       "    .dataframe tbody tr th:only-of-type {\n",
       "        vertical-align: middle;\n",
       "    }\n",
       "\n",
       "    .dataframe tbody tr th {\n",
       "        vertical-align: top;\n",
       "    }\n",
       "\n",
       "    .dataframe thead th {\n",
       "        text-align: right;\n",
       "    }\n",
       "</style>\n",
       "<table border=\"1\" class=\"dataframe\">\n",
       "  <thead>\n",
       "    <tr style=\"text-align: right;\">\n",
       "      <th></th>\n",
       "      <th>Density</th>\n",
       "      <th>Speed of sound</th>\n",
       "      <th>Viscosity</th>\n",
       "    </tr>\n",
       "    <tr>\n",
       "      <th>Fluid</th>\n",
       "      <th></th>\n",
       "      <th></th>\n",
       "      <th></th>\n",
       "    </tr>\n",
       "  </thead>\n",
       "  <tbody>\n",
       "    <tr>\n",
       "      <th>Water</th>\n",
       "      <td>1000</td>\n",
       "      <td>1500</td>\n",
       "      <td>0.000894</td>\n",
       "    </tr>\n",
       "    <tr>\n",
       "      <th>Fuel oil</th>\n",
       "      <td>890</td>\n",
       "      <td>1360</td>\n",
       "      <td>2.022000</td>\n",
       "    </tr>\n",
       "  </tbody>\n",
       "</table>\n",
       "</div>"
      ],
      "text/plain": [
       "          Density  Speed of sound  Viscosity\n",
       "Fluid                                       \n",
       "Water        1000            1500   0.000894\n",
       "Fuel oil      890            1360   2.022000"
      ]
     },
     "execution_count": 3,
     "metadata": {},
     "output_type": "execute_result"
    }
   ],
   "source": [
    "fluids = pd.read_csv('../data/physical_properties.csv', sep=';', index_col='Fluid')\n",
    "fluids"
   ]
  },
  {
   "cell_type": "code",
   "execution_count": 4,
   "id": "fd1029e0-dc55-433b-9a9d-3a15acca9f08",
   "metadata": {},
   "outputs": [],
   "source": [
    "config = problem_setup(N=20, \n",
    "                       points=[0.0, 10.0],\n",
    "                       fluid='Water',\n",
    "                       freq=160,\n",
    "                       pressure=1.0)\n",
    "\n",
    "fluid, points, speed, density, omega, pressure = config['Params']\n",
    "domain, V, u, v = config['FunctionSpace']\n",
    "Left, Right, bc = config['Problem']"
   ]
  },
  {
   "cell_type": "code",
   "execution_count": 5,
   "id": "cf10b9b9-4ad9-4620-b3ef-ef9fd90c5f21",
   "metadata": {},
   "outputs": [],
   "source": [
    "problem = fem.petsc.LinearProblem(Left, Right, bcs=[bc])\n",
    "uh = problem.solve()"
   ]
  },
  {
   "cell_type": "markdown",
   "id": "0eae4962-4f03-4732-b57d-482b3c86c911",
   "metadata": {},
   "source": [
    "#### Exact solution for the given problem:\n",
    "\n",
    "$$\n",
    "\\begin{align}\n",
    "{\\large u = \\frac{ p \\cdot sin(\\frac{\\omega}{c} \\cdot x)) }\n",
    "{ \\rho \\cdot c \\cdot \\omega \\cdot cos(\\frac{\\omega}{c} \\cdot b))} }\n",
    "\\end{align}\n",
    "$$"
   ]
  },
  {
   "cell_type": "code",
   "execution_count": 6,
   "id": "ef0ca9c1-bd10-45aa-95e5-35c8a3436c7d",
   "metadata": {},
   "outputs": [],
   "source": [
    "def u_exact(x):\n",
    "    return (pressure * np.sin(omega * x[0] / speed)) / \\\n",
    "           (density * speed * omega * np.cos(omega * points[1] / speed))\n",
    "\n",
    "u_ex = fem.Function(V)\n",
    "u_ex.interpolate(u_exact)"
   ]
  },
  {
   "cell_type": "markdown",
   "id": "22da012c-3161-4b93-88d1-7319fed0f47f",
   "metadata": {},
   "source": [
    "## Results"
   ]
  },
  {
   "cell_type": "code",
   "execution_count": 7,
   "id": "64a04764-a115-401e-917b-cebbb5b78eed",
   "metadata": {},
   "outputs": [
    {
     "data": {
      "image/png": "[encoded data removed]",
      "text/plain": [
       "<Figure size 1152x576 with 1 Axes>"
      ]
     },
     "metadata": {
      "needs_background": "light"
     },
     "output_type": "display_data"
    }
   ],
   "source": [
    "fig, ax = plt.subplots(figsize=(16,8))\n",
    "fig.suptitle(f'1-d Wave propagation in {fluid}', y=0.92, fontsize=16)\n",
    "\n",
    "xs1 = np.linspace(points[0], points[1], uh.vector.array.size)\n",
    "xs2 = np.linspace(points[0], points[1], u_ex.vector.array.size)\n",
    "\n",
    "ax.plot(xs1, uh.vector.array, label=r'$ U_h $')\n",
    "ax.plot(xs2, u_ex.vector.array, label=r'$ U $')\n",
    "\n",
    "ax.legend()\n",
    "ax.grid()"
   ]
  },
  {
   "cell_type": "code",
   "execution_count": 8,
   "id": "231d3f49-9b66-4119-ac6f-1bb4a5514d9d",
   "metadata": {},
   "outputs": [],
   "source": [
    "def L2_norm(fun):\n",
    "    comm = uh.function_space.mesh.comm\n",
    "    error = fem.form(fun**2 * dx)\n",
    "    norm = np.sqrt(comm.allreduce(fem.assemble_scalar(error), MPI.SUM))\n",
    "    \n",
    "    if comm.rank == 0:\n",
    "        return norm"
   ]
  },
  {
   "cell_type": "code",
   "execution_count": 9,
   "id": "ad1583fa-9dcc-47e3-8890-f7d94bc855d1",
   "metadata": {},
   "outputs": [],
   "source": [
    "def L2_error(uh, u_ex):\n",
    "    comm = uh.function_space.mesh.comm\n",
    "    error = fem.form((uh - u_ex)**2 * dx)\n",
    "    E = np.sqrt(comm.allreduce(fem.assemble_scalar(error), MPI.SUM))\n",
    "    \n",
    "    if comm.rank == 0:\n",
    "        return E"
   ]
  },
  {
   "cell_type": "code",
   "execution_count": 10,
   "id": "da22533c-2aef-4261-970c-a9d39c2034ff",
   "metadata": {},
   "outputs": [
    {
     "name": "stdout",
     "output_type": "stream",
     "text": [
      "L2 Error: 3.28e-11\n"
     ]
    }
   ],
   "source": [
    "print(f\"L2 Error: {L2_error(uh, u_ex):.2e}\")"
   ]
  },
  {
   "cell_type": "markdown",
   "id": "b0095130-6026-4da3-8931-2e04579a49db",
   "metadata": {},
   "source": [
    "## Convergence"
   ]
  },
  {
   "cell_type": "code",
   "execution_count": 11,
   "id": "8ebc9788-3df3-41ae-ae90-cbe63b121e0f",
   "metadata": {},
   "outputs": [],
   "source": [
    "def calc_convergence(rounds: int = 5):\n",
    "    \"\"\"\n",
    "    Convergence calculation\n",
    "    \"\"\"\n",
    "    \n",
    "    results = list()\n",
    "    for i in range(rounds):\n",
    "        config = problem_setup(N=10 * 2**i, \n",
    "                           points=[0.0, 10.0],\n",
    "                           fluid='Water',\n",
    "                           freq=160,\n",
    "                           pressure=1.0)\n",
    "\n",
    "        fluid, points, speed, density, omega, pressure = config['Params']\n",
    "        domain, V, u, v = config['FunctionSpace']\n",
    "        Left, Right, bc = config['Problem']\n",
    "        \n",
    "        problem = fem.petsc.LinearProblem(Left, Right, bcs=[bc])\n",
    "        \n",
    "        start = timeit.default_timer()\n",
    "        uh = problem.solve()\n",
    "        stop = timeit.default_timer()\n",
    "        \n",
    "        u_ex = fem.Function(V)\n",
    "        u_ex.interpolate(u_exact)\n",
    "        \n",
    "        norm_l2_uh = L2_norm(uh)\n",
    "        error = L2_error(uh, u_ex)\n",
    "        \n",
    "        results.append([10 * 2**i, norm_l2_uh, error, np.nan, stop - start])\n",
    "                  \n",
    "        if len(results) > 2:\n",
    "            results[-1][3] = np.log2((results[-3][2] - results[-2][2])/(results[-2][2] - results[-1][2]))\n",
    "        \n",
    "    return results"
   ]
  },
  {
   "cell_type": "code",
   "execution_count": 12,
   "id": "a7844c01-da98-4d7e-997d-07aab2cbd653",
   "metadata": {},
   "outputs": [
    {
     "data": {
      "text/html": [
       "<div>\n",
       "<style scoped>\n",
       "    .dataframe tbody tr th:only-of-type {\n",
       "        vertical-align: middle;\n",
       "    }\n",
       "\n",
       "    .dataframe tbody tr th {\n",
       "        vertical-align: top;\n",
       "    }\n",
       "\n",
       "    .dataframe thead th {\n",
       "        text-align: right;\n",
       "    }\n",
       "</style>\n",
       "<table border=\"1\" class=\"dataframe\">\n",
       "  <thead>\n",
       "    <tr style=\"text-align: right;\">\n",
       "      <th></th>\n",
       "      <th>||u_h||</th>\n",
       "      <th>error</th>\n",
       "      <th>k</th>\n",
       "      <th>time</th>\n",
       "    </tr>\n",
       "    <tr>\n",
       "      <th>N</th>\n",
       "      <th></th>\n",
       "      <th></th>\n",
       "      <th></th>\n",
       "      <th></th>\n",
       "    </tr>\n",
       "  </thead>\n",
       "  <tbody>\n",
       "    <tr>\n",
       "      <th>10</th>\n",
       "      <td>1.492846e-09</td>\n",
       "      <td>1.179467e-10</td>\n",
       "      <td>NaN</td>\n",
       "      <td>0.000482</td>\n",
       "    </tr>\n",
       "    <tr>\n",
       "      <th>20</th>\n",
       "      <td>1.552151e-09</td>\n",
       "      <td>3.284039e-11</td>\n",
       "      <td>NaN</td>\n",
       "      <td>0.000347</td>\n",
       "    </tr>\n",
       "    <tr>\n",
       "      <th>40</th>\n",
       "      <td>1.570885e-09</td>\n",
       "      <td>8.460551e-12</td>\n",
       "      <td>1.803577</td>\n",
       "      <td>0.000406</td>\n",
       "    </tr>\n",
       "    <tr>\n",
       "      <th>80</th>\n",
       "      <td>1.575851e-09</td>\n",
       "      <td>2.131528e-12</td>\n",
       "      <td>1.945634</td>\n",
       "      <td>0.000349</td>\n",
       "    </tr>\n",
       "    <tr>\n",
       "      <th>160</th>\n",
       "      <td>1.577110e-09</td>\n",
       "      <td>5.339185e-13</td>\n",
       "      <td>1.986068</td>\n",
       "      <td>0.000389</td>\n",
       "    </tr>\n",
       "    <tr>\n",
       "      <th>320</th>\n",
       "      <td>1.577426e-09</td>\n",
       "      <td>1.335446e-13</td>\n",
       "      <td>1.996495</td>\n",
       "      <td>0.000631</td>\n",
       "    </tr>\n",
       "    <tr>\n",
       "      <th>640</th>\n",
       "      <td>1.577506e-09</td>\n",
       "      <td>3.339021e-14</td>\n",
       "      <td>1.999122</td>\n",
       "      <td>0.000539</td>\n",
       "    </tr>\n",
       "    <tr>\n",
       "      <th>1280</th>\n",
       "      <td>1.577525e-09</td>\n",
       "      <td>8.347805e-15</td>\n",
       "      <td>1.999781</td>\n",
       "      <td>0.000827</td>\n",
       "    </tr>\n",
       "    <tr>\n",
       "      <th>2560</th>\n",
       "      <td>1.577530e-09</td>\n",
       "      <td>2.087136e-15</td>\n",
       "      <td>1.999984</td>\n",
       "      <td>0.001583</td>\n",
       "    </tr>\n",
       "    <tr>\n",
       "      <th>5120</th>\n",
       "      <td>1.577532e-09</td>\n",
       "      <td>5.214641e-16</td>\n",
       "      <td>1.999535</td>\n",
       "      <td>0.002101</td>\n",
       "    </tr>\n",
       "    <tr>\n",
       "      <th>10240</th>\n",
       "      <td>1.577532e-09</td>\n",
       "      <td>1.292508e-16</td>\n",
       "      <td>1.997071</td>\n",
       "      <td>0.003524</td>\n",
       "    </tr>\n",
       "    <tr>\n",
       "      <th>20480</th>\n",
       "      <td>1.577532e-09</td>\n",
       "      <td>4.229779e-17</td>\n",
       "      <td>2.173331</td>\n",
       "      <td>0.011535</td>\n",
       "    </tr>\n",
       "    <tr>\n",
       "      <th>40960</th>\n",
       "      <td>1.577532e-09</td>\n",
       "      <td>1.785124e-17</td>\n",
       "      <td>1.830605</td>\n",
       "      <td>0.019947</td>\n",
       "    </tr>\n",
       "    <tr>\n",
       "      <th>81920</th>\n",
       "      <td>1.577532e-09</td>\n",
       "      <td>1.170976e-17</td>\n",
       "      <td>1.992971</td>\n",
       "      <td>0.032114</td>\n",
       "    </tr>\n",
       "  </tbody>\n",
       "</table>\n",
       "</div>"
      ],
      "text/plain": [
       "            ||u_h||         error         k      time\n",
       "N                                                    \n",
       "10     1.492846e-09  1.179467e-10       NaN  0.000482\n",
       "20     1.552151e-09  3.284039e-11       NaN  0.000347\n",
       "40     1.570885e-09  8.460551e-12  1.803577  0.000406\n",
       "80     1.575851e-09  2.131528e-12  1.945634  0.000349\n",
       "160    1.577110e-09  5.339185e-13  1.986068  0.000389\n",
       "320    1.577426e-09  1.335446e-13  1.996495  0.000631\n",
       "640    1.577506e-09  3.339021e-14  1.999122  0.000539\n",
       "1280   1.577525e-09  8.347805e-15  1.999781  0.000827\n",
       "2560   1.577530e-09  2.087136e-15  1.999984  0.001583\n",
       "5120   1.577532e-09  5.214641e-16  1.999535  0.002101\n",
       "10240  1.577532e-09  1.292508e-16  1.997071  0.003524\n",
       "20480  1.577532e-09  4.229779e-17  2.173331  0.011535\n",
       "40960  1.577532e-09  1.785124e-17  1.830605  0.019947\n",
       "81920  1.577532e-09  1.170976e-17  1.992971  0.032114"
      ]
     },
     "execution_count": 12,
     "metadata": {},
     "output_type": "execute_result"
    }
   ],
   "source": [
    "cdata = calc_convergence(14)\n",
    "cdf = pd.DataFrame(cdata, columns=['N', '||u_h||', 'error', 'k', 'time']).set_index('N')\n",
    "cdf"
   ]
  },
  {
   "cell_type": "code",
   "execution_count": null,
   "id": "10844c55-47be-4164-bb57-b37b1dc7f3c4",
   "metadata": {},
   "outputs": [],
   "source": []
  }
 ],
 "metadata": {
  "kernelspec": {
   "display_name": "Python 3 (ipykernel)",
   "language": "python",
   "name": "python3"
  },
  "language_info": {
   "codemirror_mode": {
    "name": "ipython",
    "version": 3
   },
   "file_extension": ".py",
   "mimetype": "text/x-python",
   "name": "python",
   "nbconvert_exporter": "python",
   "pygments_lexer": "ipython3",
   "version": "3.10.4"
  }
 },
 "nbformat": 4,
 "nbformat_minor": 5
}
