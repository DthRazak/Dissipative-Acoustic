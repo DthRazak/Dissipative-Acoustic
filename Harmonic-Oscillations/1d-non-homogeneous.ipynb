{
 "cells": [
  {
   "cell_type": "code",
   "execution_count": 151,
   "id": "9323f1c3-c905-46c9-a4e7-90ada966e65b",
   "metadata": {},
   "outputs": [],
   "source": [
    "from dolfinx import fem, mesh\n",
    "from mpi4py import MPI\n",
    "from petsc4py.PETSc import ScalarType \n",
    "from ufl import (TrialFunction, Measure, TestFunction, dx, ds, grad, inner)\n",
    "\n",
    "import timeit\n",
    "import numpy as np\n",
    "import pandas as pd\n",
    "\n",
    "from matplotlib import pyplot as plt\n",
    "\n",
    "import ufl"
   ]
  },
  {
   "cell_type": "code",
   "execution_count": 152,
   "id": "9d1540e0-3753-4910-8d61-12bfb75c4c5e",
   "metadata": {},
   "outputs": [],
   "source": [
    "class BoundaryCondition():\n",
    "    def __init__(self, type, marker, values, V, ds):\n",
    "        self._type = type\n",
    "        if type == \"Dirichlet\":\n",
    "            u_D = fem.Function(V)\n",
    "            u_D.interpolate(values)\n",
    "            facets = facet_tag.find(marker)\n",
    "            dofs = fem.locate_dofs_topological(V, fdim, facets)\n",
    "            self._bc = fem.dirichletbc(u_D, dofs)\n",
    "        elif type == \"Neumann\":\n",
    "                self._bc = inner(values, v) * ds(marker)\n",
    "        elif type == \"Robin\":\n",
    "            self._bc = values[0] * inner(u-values[1], v)* ds(marker)\n",
    "        else:\n",
    "            raise TypeError(\"Unknown boundary condition: {0:s}\".format(type))\n",
    "    @property\n",
    "    def bc(self):\n",
    "        return self._bc\n",
    "\n",
    "    @property\n",
    "    def type(self):\n",
    "        return self._type"
   ]
  },
  {
   "cell_type": "code",
   "execution_count": 153,
   "id": "375dd3f5-2b19-43fc-9aab-e416778e777a",
   "metadata": {},
   "outputs": [],
   "source": [
    "def generate_boundary_measure(domain, points):\n",
    "    boundaries = [(1, lambda x: np.isclose(x[0], points[0])),\n",
    "                  (2, lambda x: np.isclose(x[0], points[1]))]\n",
    "    \n",
    "    facet_indices, facet_markers = [], []\n",
    "    fdim = domain.topology.dim - 1\n",
    "    for (marker, locator) in boundaries:\n",
    "        facets = mesh.locate_entities(domain, fdim, locator)\n",
    "        facet_indices.append(facets)\n",
    "        facet_markers.append(np.full_like(facets, marker))\n",
    "    facet_indices = np.hstack(facet_indices).astype(np.int32)\n",
    "    facet_markers = np.hstack(facet_markers).astype(np.int32)\n",
    "    sorted_facets = np.argsort(facet_indices)\n",
    "    facet_tag = mesh.meshtags(domain, fdim, facet_indices[sorted_facets], facet_markers[sorted_facets])\n",
    "\n",
    "    ds = Measure(\"ds\", domain=domain, subdomain_data=facet_tag)\n",
    "    \n",
    "    return ds"
   ]
  },
  {
   "cell_type": "code",
   "execution_count": 154,
   "id": "755c0cbd-54c4-45ab-b348-348aac9fd927",
   "metadata": {},
   "outputs": [],
   "source": [
    "def validate_domains(domains):\n",
    "    \"\"\"\n",
    "    domains = [(points: list[float, float], fluid: str), ...]\n",
    "    \"\"\"\n",
    "    \n",
    "    for i in range(len(domains)):\n",
    "        if domains[i][0][1] < domains[i][0][0]:\n",
    "            raise ValueError(f\"Left boundary should be less then right for {domains[i][1]}\")\n",
    "    \n",
    "    for i in range(1, len(domains)):\n",
    "        if not np.isclose(domains[i-1][0][1], domains[i][0][0]):\n",
    "            raise ValueError(f\"{domains[i-1][1]} and {domains[i][1]} don't have the same right-left boundary\")"
   ]
  },
  {
   "cell_type": "code",
   "execution_count": 183,
   "id": "acecf646-a506-425e-99d2-69aa5e958019",
   "metadata": {},
   "outputs": [],
   "source": [
    "def problem_setup(N: int,\n",
    "                  domains, \n",
    "                  freq: float, \n",
    "                  pressure: float):\n",
    "    \"\"\"\n",
    "    Performs problem configuration w.r.t. given parameters\n",
    "    \"\"\"\n",
    "    \n",
    "    validate_domains(domains)\n",
    "    points = [domains[0][0][0], domains[-1][0][1]]\n",
    "    \n",
    "    # Mesh and function space definition\n",
    "    domain = mesh.create_interval(MPI.COMM_WORLD, N, points)\n",
    "    V = fem.FunctionSpace(domain, (\"CG\", 1))\n",
    "\n",
    "    u = TrialFunction(V)\n",
    "    v = TestFunction(V)\n",
    "    \n",
    "    # Definition of density and speed functions\n",
    "    ro = fem.Function(V)\n",
    "    c = fem.Function(V)\n",
    "    \n",
    "    cells = list()\n",
    "    for i in range(len(domains)):\n",
    "        a, b = domains[i][0]        \n",
    "        cells.append(mesh.locate_entities(\n",
    "             domain,\n",
    "             domain.topology.dim, \n",
    "             lambda x: np.logical_and(np.greater_equal(x[0], a),\n",
    "                                      np.less_equal(x[0], b))))\n",
    "                             \n",
    "    for i in range(len(domains)):\n",
    "        cell = cells[i]\n",
    "        fluid = domains[i][1]\n",
    "        density, speed = fluids.loc[fluid, ['Density', 'Speed of sound']]\n",
    "        \n",
    "        ro.x.array[cell] = np.full_like(cell, density, dtype=ScalarType)\n",
    "        c.x.array[cell] = np.full_like(cell, speed, dtype=ScalarType)\n",
    "        \n",
    "    omega = freq * 2 * np.pi\n",
    "        \n",
    "    # Construction of bilinear form and linear functional\n",
    "    aa = ro * c**2 * inner(grad(u), grad(v)) * dx\n",
    "    mm = ro * inner(u, v) * dx\n",
    "\n",
    "    F = aa - omega**2 * mm\n",
    "    \n",
    "    ds = generate_boundary_measure(domain, points)\n",
    "    \n",
    "    boundary_conditions = [BoundaryCondition(\"Neumann\", 1, ScalarType(0.0), V, ds), \n",
    "                           BoundaryCondition(\"Neumann\", 2, ScalarType(1.0), V, ds)]\n",
    "    \n",
    "    bcs = []\n",
    "    for condition in boundary_conditions:\n",
    "        if condition.type == \"Dirichlet\":\n",
    "            bcs.append(condition.bc)\n",
    "        else:\n",
    "            F += condition.bc\n",
    "    \n",
    "    # Left = ufl.lhs(F)\n",
    "    Right = ufl.rhs(F)\n",
    "    \n",
    "    return {\n",
    "        'Params': (N, points, domains, omega, pressure),\n",
    "        'FunctionSpace': (domain, V, u, v),\n",
    "        'Problem': (Left, Right, bc)\n",
    "    }"
   ]
  },
  {
   "cell_type": "markdown",
   "id": "db22f202-fc8b-4678-a9d6-035713e0d8f9",
   "metadata": {},
   "source": [
    "#### Available fluids"
   ]
  },
  {
   "cell_type": "code",
   "execution_count": 184,
   "id": "6ca7acf6-0173-4def-8c71-20e75328177b",
   "metadata": {},
   "outputs": [
    {
     "data": {
      "text/html": [
       "<div>\n",
       "<style scoped>\n",
       "    .dataframe tbody tr th:only-of-type {\n",
       "        vertical-align: middle;\n",
       "    }\n",
       "\n",
       "    .dataframe tbody tr th {\n",
       "        vertical-align: top;\n",
       "    }\n",
       "\n",
       "    .dataframe thead th {\n",
       "        text-align: right;\n",
       "    }\n",
       "</style>\n",
       "<table border=\"1\" class=\"dataframe\">\n",
       "  <thead>\n",
       "    <tr style=\"text-align: right;\">\n",
       "      <th></th>\n",
       "      <th>Density</th>\n",
       "      <th>Speed of sound</th>\n",
       "      <th>Viscosity</th>\n",
       "    </tr>\n",
       "    <tr>\n",
       "      <th>Fluid</th>\n",
       "      <th></th>\n",
       "      <th></th>\n",
       "      <th></th>\n",
       "    </tr>\n",
       "  </thead>\n",
       "  <tbody>\n",
       "    <tr>\n",
       "      <th>Water</th>\n",
       "      <td>1000</td>\n",
       "      <td>1500</td>\n",
       "      <td>0.000894</td>\n",
       "    </tr>\n",
       "    <tr>\n",
       "      <th>Fuel oil</th>\n",
       "      <td>890</td>\n",
       "      <td>1360</td>\n",
       "      <td>2.022000</td>\n",
       "    </tr>\n",
       "    <tr>\n",
       "      <th>Oil</th>\n",
       "      <td>760</td>\n",
       "      <td>1470</td>\n",
       "      <td>0.000500</td>\n",
       "    </tr>\n",
       "  </tbody>\n",
       "</table>\n",
       "</div>"
      ],
      "text/plain": [
       "          Density  Speed of sound  Viscosity\n",
       "Fluid                                       \n",
       "Water        1000            1500   0.000894\n",
       "Fuel oil      890            1360   2.022000\n",
       "Oil           760            1470   0.000500"
      ]
     },
     "execution_count": 184,
     "metadata": {},
     "output_type": "execute_result"
    }
   ],
   "source": [
    "fluids = pd.read_csv('../data/physical_properties.csv', sep=';', index_col='Fluid')\n",
    "fluids"
   ]
  },
  {
   "cell_type": "code",
   "execution_count": 185,
   "id": "fd1029e0-dc55-433b-9a9d-3a15acca9f08",
   "metadata": {},
   "outputs": [
    {
     "name": "stdout",
     "output_type": "stream",
     "text": [
      "Found different Arguments with same number and part.\n",
      "Did you combine test or trial functions from different spaces?\n",
      "The Arguments found are:\n",
      "  v_0\n",
      "  v_1\n",
      "  v_0\n"
     ]
    },
    {
     "name": "stderr",
     "output_type": "stream",
     "text": [
      "ERROR:UFL:Found different Arguments with same number and part.\n",
      "Did you combine test or trial functions from different spaces?\n",
      "The Arguments found are:\n",
      "  v_0\n",
      "  v_1\n",
      "  v_0\n"
     ]
    },
    {
     "ename": "UFLException",
     "evalue": "Found different Arguments with same number and part.\nDid you combine test or trial functions from different spaces?\nThe Arguments found are:\n  v_0\n  v_1\n  v_0",
     "output_type": "error",
     "traceback": [
      "\u001b[0;31m---------------------------------------------------------------------------\u001b[0m",
      "\u001b[0;31mUFLException\u001b[0m                              Traceback (most recent call last)",
      "Input \u001b[0;32mIn [185]\u001b[0m, in \u001b[0;36m<cell line: 1>\u001b[0;34m()\u001b[0m\n\u001b[0;32m----> 1\u001b[0m config \u001b[38;5;241m=\u001b[39m \u001b[43mproblem_setup\u001b[49m\u001b[43m(\u001b[49m\u001b[43mN\u001b[49m\u001b[38;5;241;43m=\u001b[39;49m\u001b[38;5;241;43m100\u001b[39;49m\u001b[43m,\u001b[49m\u001b[43m \u001b[49m\n\u001b[1;32m      2\u001b[0m \u001b[43m                       \u001b[49m\u001b[43mdomains\u001b[49m\u001b[38;5;241;43m=\u001b[39;49m\u001b[43m[\u001b[49m\u001b[43m(\u001b[49m\u001b[43m[\u001b[49m\u001b[38;5;241;43m0.0\u001b[39;49m\u001b[43m,\u001b[49m\u001b[43m \u001b[49m\u001b[38;5;241;43m5.0\u001b[39;49m\u001b[43m]\u001b[49m\u001b[43m,\u001b[49m\u001b[43m \u001b[49m\u001b[38;5;124;43m'\u001b[39;49m\u001b[38;5;124;43mFuel oil\u001b[39;49m\u001b[38;5;124;43m'\u001b[39;49m\u001b[43m)\u001b[49m\u001b[43m,\u001b[49m\n\u001b[1;32m      3\u001b[0m \u001b[43m                                \u001b[49m\u001b[43m(\u001b[49m\u001b[43m(\u001b[49m\u001b[43m[\u001b[49m\u001b[38;5;241;43m5.0\u001b[39;49m\u001b[43m,\u001b[49m\u001b[43m \u001b[49m\u001b[38;5;241;43m10.0\u001b[39;49m\u001b[43m]\u001b[49m\u001b[43m)\u001b[49m\u001b[43m,\u001b[49m\u001b[43m \u001b[49m\u001b[38;5;124;43m'\u001b[39;49m\u001b[38;5;124;43mOil\u001b[39;49m\u001b[38;5;124;43m'\u001b[39;49m\u001b[43m)\u001b[49m\u001b[43m]\u001b[49m\u001b[43m,\u001b[49m\n\u001b[1;32m      4\u001b[0m \u001b[43m                       \u001b[49m\u001b[43mfreq\u001b[49m\u001b[38;5;241;43m=\u001b[39;49m\u001b[38;5;241;43m1000\u001b[39;49m\u001b[43m,\u001b[49m\n\u001b[1;32m      5\u001b[0m \u001b[43m                       \u001b[49m\u001b[43mpressure\u001b[49m\u001b[38;5;241;43m=\u001b[39;49m\u001b[38;5;241;43m1.0\u001b[39;49m\u001b[43m)\u001b[49m\n\u001b[1;32m      7\u001b[0m N, points, domains, omega, pressure \u001b[38;5;241m=\u001b[39m config[\u001b[38;5;124m'\u001b[39m\u001b[38;5;124mParams\u001b[39m\u001b[38;5;124m'\u001b[39m]\n\u001b[1;32m      8\u001b[0m domain, V, u, v \u001b[38;5;241m=\u001b[39m config[\u001b[38;5;124m'\u001b[39m\u001b[38;5;124mFunctionSpace\u001b[39m\u001b[38;5;124m'\u001b[39m]\n",
      "Input \u001b[0;32mIn [183]\u001b[0m, in \u001b[0;36mproblem_setup\u001b[0;34m(N, domains, freq, pressure)\u001b[0m\n\u001b[1;32m     58\u001b[0m         F \u001b[38;5;241m+\u001b[39m\u001b[38;5;241m=\u001b[39m condition\u001b[38;5;241m.\u001b[39mbc\n\u001b[1;32m     60\u001b[0m \u001b[38;5;66;03m# Left = ufl.lhs(F)\u001b[39;00m\n\u001b[0;32m---> 61\u001b[0m Right \u001b[38;5;241m=\u001b[39m \u001b[43mufl\u001b[49m\u001b[38;5;241;43m.\u001b[39;49m\u001b[43mrhs\u001b[49m\u001b[43m(\u001b[49m\u001b[43mF\u001b[49m\u001b[43m)\u001b[49m\n\u001b[1;32m     63\u001b[0m \u001b[38;5;28;01mreturn\u001b[39;00m {\n\u001b[1;32m     64\u001b[0m     \u001b[38;5;124m'\u001b[39m\u001b[38;5;124mParams\u001b[39m\u001b[38;5;124m'\u001b[39m: (N, points, domains, omega, pressure),\n\u001b[1;32m     65\u001b[0m     \u001b[38;5;124m'\u001b[39m\u001b[38;5;124mFunctionSpace\u001b[39m\u001b[38;5;124m'\u001b[39m: (domain, V, u, v),\n\u001b[1;32m     66\u001b[0m     \u001b[38;5;124m'\u001b[39m\u001b[38;5;124mProblem\u001b[39m\u001b[38;5;124m'\u001b[39m: (Left, Right, bc)\n\u001b[1;32m     67\u001b[0m }\n",
      "File \u001b[0;32m/usr/local/lib/python3.10/dist-packages/ufl/formoperators.py:86\u001b[0m, in \u001b[0;36mrhs\u001b[0;34m(form)\u001b[0m\n\u001b[1;32m     84\u001b[0m form \u001b[38;5;241m=\u001b[39m as_form(form)\n\u001b[1;32m     85\u001b[0m form \u001b[38;5;241m=\u001b[39m expand_derivatives(form)\n\u001b[0;32m---> 86\u001b[0m \u001b[38;5;28;01mreturn\u001b[39;00m \u001b[43mcompute_form_rhs\u001b[49m\u001b[43m(\u001b[49m\u001b[43mform\u001b[49m\u001b[43m)\u001b[49m\n",
      "File \u001b[0;32m/usr/local/lib/python3.10/dist-packages/ufl/algorithms/formtransformations.py:381\u001b[0m, in \u001b[0;36mcompute_form_rhs\u001b[0;34m(form)\u001b[0m\n\u001b[1;32m    372\u001b[0m \u001b[38;5;28;01mdef\u001b[39;00m \u001b[38;5;21mcompute_form_rhs\u001b[39m(form):\n\u001b[1;32m    373\u001b[0m     \u001b[38;5;124;03m\"\"\"Compute the right hand side of a form.\u001b[39;00m\n\u001b[1;32m    374\u001b[0m \n\u001b[1;32m    375\u001b[0m \u001b[38;5;124;03m    Example:\u001b[39;00m\n\u001b[0;32m   (...)\u001b[0m\n\u001b[1;32m    379\u001b[0m \n\u001b[1;32m    380\u001b[0m \u001b[38;5;124;03m    \"\"\"\u001b[39;00m\n\u001b[0;32m--> 381\u001b[0m     \u001b[38;5;28;01mreturn\u001b[39;00m \u001b[38;5;241m-\u001b[39m\u001b[43mcompute_form_with_arity\u001b[49m\u001b[43m(\u001b[49m\u001b[43mform\u001b[49m\u001b[43m,\u001b[49m\u001b[43m \u001b[49m\u001b[38;5;241;43m1\u001b[39;49m\u001b[43m)\u001b[49m\n",
      "File \u001b[0;32m/usr/local/lib/python3.10/dist-packages/ufl/algorithms/formtransformations.py:312\u001b[0m, in \u001b[0;36mcompute_form_with_arity\u001b[0;34m(form, arity, arguments)\u001b[0m\n\u001b[1;32m    310\u001b[0m \u001b[38;5;66;03m# Extract all arguments in form\u001b[39;00m\n\u001b[1;32m    311\u001b[0m \u001b[38;5;28;01mif\u001b[39;00m arguments \u001b[38;5;129;01mis\u001b[39;00m \u001b[38;5;28;01mNone\u001b[39;00m:\n\u001b[0;32m--> 312\u001b[0m     arguments \u001b[38;5;241m=\u001b[39m \u001b[43mform\u001b[49m\u001b[38;5;241;43m.\u001b[39;49m\u001b[43marguments\u001b[49m\u001b[43m(\u001b[49m\u001b[43m)\u001b[49m\n\u001b[1;32m    314\u001b[0m parts \u001b[38;5;241m=\u001b[39m [arg\u001b[38;5;241m.\u001b[39mpart() \u001b[38;5;28;01mfor\u001b[39;00m arg \u001b[38;5;129;01min\u001b[39;00m arguments]\n\u001b[1;32m    315\u001b[0m \u001b[38;5;28;01mif\u001b[39;00m \u001b[38;5;28mset\u001b[39m(parts) \u001b[38;5;241m-\u001b[39m {\u001b[38;5;28;01mNone\u001b[39;00m}:\n",
      "File \u001b[0;32m/usr/local/lib/python3.10/dist-packages/ufl/form.py:221\u001b[0m, in \u001b[0;36mForm.arguments\u001b[0;34m(self)\u001b[0m\n\u001b[1;32m    219\u001b[0m \u001b[38;5;124m\"\u001b[39m\u001b[38;5;124mReturn all ``Argument`` objects found in form.\u001b[39m\u001b[38;5;124m\"\u001b[39m\n\u001b[1;32m    220\u001b[0m \u001b[38;5;28;01mif\u001b[39;00m \u001b[38;5;28mself\u001b[39m\u001b[38;5;241m.\u001b[39m_arguments \u001b[38;5;129;01mis\u001b[39;00m \u001b[38;5;28;01mNone\u001b[39;00m:\n\u001b[0;32m--> 221\u001b[0m     \u001b[38;5;28;43mself\u001b[39;49m\u001b[38;5;241;43m.\u001b[39;49m\u001b[43m_analyze_form_arguments\u001b[49m\u001b[43m(\u001b[49m\u001b[43m)\u001b[49m\n\u001b[1;32m    222\u001b[0m \u001b[38;5;28;01mreturn\u001b[39;00m \u001b[38;5;28mself\u001b[39m\u001b[38;5;241m.\u001b[39m_arguments\n",
      "File \u001b[0;32m/usr/local/lib/python3.10/dist-packages/ufl/form.py:447\u001b[0m, in \u001b[0;36mForm._analyze_form_arguments\u001b[0;34m(self)\u001b[0m\n\u001b[1;32m    445\u001b[0m \u001b[38;5;124m\"\u001b[39m\u001b[38;5;124mAnalyze which Argument and Coefficient objects can be found in the form.\u001b[39m\u001b[38;5;124m\"\u001b[39m\n\u001b[1;32m    446\u001b[0m \u001b[38;5;28;01mfrom\u001b[39;00m \u001b[38;5;21;01mufl\u001b[39;00m\u001b[38;5;21;01m.\u001b[39;00m\u001b[38;5;21;01malgorithms\u001b[39;00m\u001b[38;5;21;01m.\u001b[39;00m\u001b[38;5;21;01manalysis\u001b[39;00m \u001b[38;5;28;01mimport\u001b[39;00m extract_arguments_and_coefficients\n\u001b[0;32m--> 447\u001b[0m arguments, coefficients \u001b[38;5;241m=\u001b[39m \u001b[43mextract_arguments_and_coefficients\u001b[49m\u001b[43m(\u001b[49m\u001b[38;5;28;43mself\u001b[39;49m\u001b[43m)\u001b[49m\n\u001b[1;32m    449\u001b[0m \u001b[38;5;66;03m# Define canonical numbering of arguments and coefficients\u001b[39;00m\n\u001b[1;32m    450\u001b[0m \u001b[38;5;28mself\u001b[39m\u001b[38;5;241m.\u001b[39m_arguments \u001b[38;5;241m=\u001b[39m \u001b[38;5;28mtuple\u001b[39m(\n\u001b[1;32m    451\u001b[0m     \u001b[38;5;28msorted\u001b[39m(\u001b[38;5;28mset\u001b[39m(arguments), key\u001b[38;5;241m=\u001b[39m\u001b[38;5;28;01mlambda\u001b[39;00m x: x\u001b[38;5;241m.\u001b[39mnumber()))\n",
      "File \u001b[0;32m/usr/local/lib/python3.10/dist-packages/ufl/algorithms/analysis.py:127\u001b[0m, in \u001b[0;36mextract_arguments_and_coefficients\u001b[0;34m(a)\u001b[0m\n\u001b[1;32m    122\u001b[0m     \u001b[38;5;28;01mif\u001b[39;00m \u001b[38;5;28mlen\u001b[39m(bfnp) \u001b[38;5;241m!=\u001b[39m \u001b[38;5;28mlen\u001b[39m(\u001b[38;5;28mset\u001b[39m(bfnp\u001b[38;5;241m.\u001b[39mvalues())):\n\u001b[1;32m    123\u001b[0m         msg \u001b[38;5;241m=\u001b[39m \u001b[38;5;124m\"\"\"\u001b[39m\u001b[38;5;130;01m\\\u001b[39;00m\n\u001b[1;32m    124\u001b[0m \u001b[38;5;124mFound different Arguments with same number and part.\u001b[39m\n\u001b[1;32m    125\u001b[0m \u001b[38;5;124mDid you combine test or trial functions from different spaces?\u001b[39m\n\u001b[1;32m    126\u001b[0m \u001b[38;5;124mThe Arguments found are:\u001b[39m\u001b[38;5;130;01m\\n\u001b[39;00m\u001b[38;5;132;01m%s\u001b[39;00m\u001b[38;5;124m\"\"\"\u001b[39m \u001b[38;5;241m%\u001b[39m \u001b[38;5;124m\"\u001b[39m\u001b[38;5;130;01m\\n\u001b[39;00m\u001b[38;5;124m\"\u001b[39m\u001b[38;5;241m.\u001b[39mjoin(\u001b[38;5;124m\"\u001b[39m\u001b[38;5;124m  \u001b[39m\u001b[38;5;132;01m%s\u001b[39;00m\u001b[38;5;124m\"\u001b[39m \u001b[38;5;241m%\u001b[39m f \u001b[38;5;28;01mfor\u001b[39;00m f \u001b[38;5;129;01min\u001b[39;00m arguments)\n\u001b[0;32m--> 127\u001b[0m         \u001b[43merror\u001b[49m\u001b[43m(\u001b[49m\u001b[43mmsg\u001b[49m\u001b[43m)\u001b[49m\n\u001b[1;32m    129\u001b[0m     \u001b[38;5;66;03m# Build count: instance mappings, should be one to one\u001b[39;00m\n\u001b[1;32m    130\u001b[0m     fcounts \u001b[38;5;241m=\u001b[39m \u001b[38;5;28mdict\u001b[39m((f, f\u001b[38;5;241m.\u001b[39mcount()) \u001b[38;5;28;01mfor\u001b[39;00m f \u001b[38;5;129;01min\u001b[39;00m coefficients)\n",
      "File \u001b[0;32m/usr/local/lib/python3.10/dist-packages/ufl/log.py:158\u001b[0m, in \u001b[0;36mLogger.error\u001b[0;34m(self, *message)\u001b[0m\n\u001b[1;32m    156\u001b[0m \u001b[38;5;124m\"\u001b[39m\u001b[38;5;124mWrite error message and raise an exception.\u001b[39m\u001b[38;5;124m\"\u001b[39m\n\u001b[1;32m    157\u001b[0m \u001b[38;5;28mself\u001b[39m\u001b[38;5;241m.\u001b[39m_log\u001b[38;5;241m.\u001b[39merror(\u001b[38;5;241m*\u001b[39mmessage)\n\u001b[0;32m--> 158\u001b[0m \u001b[38;5;28;01mraise\u001b[39;00m \u001b[38;5;28mself\u001b[39m\u001b[38;5;241m.\u001b[39m_exception_type(\u001b[38;5;28mself\u001b[39m\u001b[38;5;241m.\u001b[39m_format_raw(\u001b[38;5;241m*\u001b[39mmessage))\n",
      "\u001b[0;31mUFLException\u001b[0m: Found different Arguments with same number and part.\nDid you combine test or trial functions from different spaces?\nThe Arguments found are:\n  v_0\n  v_1\n  v_0"
     ]
    }
   ],
   "source": [
    "config = problem_setup(N=100, \n",
    "                       domains=[([0.0, 5.0], 'Fuel oil'),\n",
    "                                (([5.0, 10.0]), 'Oil')],\n",
    "                       freq=1000,\n",
    "                       pressure=1.0)\n",
    "\n",
    "N, points, domains, omega, pressure = config['Params']\n",
    "domain, V, u, v = config['FunctionSpace']\n",
    "Left, Right, bc = config['Problem']"
   ]
  },
  {
   "cell_type": "code",
   "execution_count": 170,
   "id": "cf10b9b9-4ad9-4620-b3ef-ef9fd90c5f21",
   "metadata": {},
   "outputs": [],
   "source": [
    "problem = fem.petsc.LinearProblem(Left, Right, bcs=[bc])\n",
    "uh = problem.solve()"
   ]
  },
  {
   "cell_type": "code",
   "execution_count": 150,
   "id": "0fb57afa-5ab1-45fc-87a6-4a9e83fff116",
   "metadata": {},
   "outputs": [],
   "source": [
    "vec = fem.petsc.assemble_vector(fem.form(Right))"
   ]
  },
  {
   "cell_type": "code",
   "execution_count": 111,
   "id": "28bc4e5d-154a-4fd1-8e1b-b869cf9eb275",
   "metadata": {},
   "outputs": [
    {
     "data": {
      "text/plain": [
       "array([1., 0., 0., 0., 0., 0., 0., 0., 0., 0., 0., 0., 0., 0., 0., 0., 0.,\n",
       "       0., 0., 0., 0., 0., 0., 0., 0., 0., 0., 0., 0., 0., 0., 0., 0., 0.,\n",
       "       0., 0., 0., 0., 0., 0., 0., 0., 0., 0., 0., 0., 0., 0., 0., 0., 0.,\n",
       "       0., 0., 0., 0., 0., 0., 0., 0., 0., 0., 0., 0., 0., 0., 0., 0., 0.,\n",
       "       0., 0., 0., 0., 0., 0., 0., 0., 0., 0., 0., 0., 0., 0., 0., 0., 0.,\n",
       "       0., 0., 0., 0., 0., 0., 0., 0., 0., 0., 0., 0., 0., 0., 0., 1.])"
      ]
     },
     "execution_count": 111,
     "metadata": {},
     "output_type": "execute_result"
    }
   ],
   "source": [
    "vec.array"
   ]
  },
  {
   "cell_type": "markdown",
   "id": "22da012c-3161-4b93-88d1-7319fed0f47f",
   "metadata": {},
   "source": [
    "## Results"
   ]
  },
  {
   "cell_type": "code",
   "execution_count": 97,
   "id": "64a04764-a115-401e-917b-cebbb5b78eed",
   "metadata": {},
   "outputs": [
    {
     "data": {
      "image/png": "[encoded data removed]",
      "text/plain": [
       "<Figure size 1152x576 with 1 Axes>"
      ]
     },
     "metadata": {
      "needs_background": "light"
     },
     "output_type": "display_data"
    }
   ],
   "source": [
    "fig, ax = plt.subplots(figsize=(16,8))\n",
    "# fig.suptitle(f'1-d Wave propagation in {fluid}', y=0.92, fontsize=16)\n",
    "\n",
    "xs1 = np.linspace(points[0], points[1], uh.vector.array.size)\n",
    "# xs2 = np.linspace(points[0], points[1], u_ex.vector.array.size)\n",
    "\n",
    "ax.plot(xs1, uh.vector.array, label=r'$ U_h $')\n",
    "# ax.plot(xs2, u_ex.vector.array, label=r'$ U $')\n",
    "\n",
    "ax.legend()\n",
    "ax.grid()"
   ]
  },
  {
   "cell_type": "code",
   "execution_count": 89,
   "id": "231d3f49-9b66-4119-ac6f-1bb4a5514d9d",
   "metadata": {},
   "outputs": [],
   "source": [
    "def L2_norm(fun):\n",
    "    comm = uh.function_space.mesh.comm\n",
    "    error = fem.form(fun**2 * dx)\n",
    "    norm = np.sqrt(comm.allreduce(fem.assemble_scalar(error), MPI.SUM))\n",
    "    \n",
    "    if comm.rank == 0:\n",
    "        return norm"
   ]
  },
  {
   "cell_type": "code",
   "execution_count": 90,
   "id": "ad1583fa-9dcc-47e3-8890-f7d94bc855d1",
   "metadata": {},
   "outputs": [],
   "source": [
    "def L2_error(uh, u_ex):\n",
    "    comm = uh.function_space.mesh.comm\n",
    "    error = fem.form((uh - u_ex)**2 * dx)\n",
    "    E = np.sqrt(comm.allreduce(fem.assemble_scalar(error), MPI.SUM))\n",
    "    \n",
    "    if comm.rank == 0:\n",
    "        return E"
   ]
  },
  {
   "cell_type": "code",
   "execution_count": 91,
   "id": "da22533c-2aef-4261-970c-a9d39c2034ff",
   "metadata": {},
   "outputs": [
    {
     "ename": "NameError",
     "evalue": "name 'u_ex' is not defined",
     "output_type": "error",
     "traceback": [
      "\u001b[0;31m---------------------------------------------------------------------------\u001b[0m",
      "\u001b[0;31mNameError\u001b[0m                                 Traceback (most recent call last)",
      "Input \u001b[0;32mIn [91]\u001b[0m, in \u001b[0;36m<cell line: 1>\u001b[0;34m()\u001b[0m\n\u001b[0;32m----> 1\u001b[0m \u001b[38;5;28mprint\u001b[39m(\u001b[38;5;124mf\u001b[39m\u001b[38;5;124m\"\u001b[39m\u001b[38;5;124mL2 Error: \u001b[39m\u001b[38;5;132;01m{\u001b[39;00mL2_error(uh, u_ex)\u001b[38;5;132;01m:\u001b[39;00m\u001b[38;5;124m.2e\u001b[39m\u001b[38;5;132;01m}\u001b[39;00m\u001b[38;5;124m\"\u001b[39m)\n",
      "\u001b[0;31mNameError\u001b[0m: name 'u_ex' is not defined"
     ]
    }
   ],
   "source": [
    "print(f\"L2 Error: {L2_error(uh, u_ex):.2e}\")"
   ]
  },
  {
   "cell_type": "markdown",
   "id": "b0095130-6026-4da3-8931-2e04579a49db",
   "metadata": {},
   "source": [
    "## Convergence"
   ]
  },
  {
   "cell_type": "code",
   "execution_count": 11,
   "id": "8ebc9788-3df3-41ae-ae90-cbe63b121e0f",
   "metadata": {},
   "outputs": [],
   "source": [
    "def calc_convergence(rounds: int = 5):\n",
    "    \"\"\"\n",
    "    Convergence calculation\n",
    "    \"\"\"\n",
    "    \n",
    "    results = list()\n",
    "    for i in range(rounds):\n",
    "        config = problem_setup(N=10 * 2**i, \n",
    "                           points=[0.0, 10.0],\n",
    "                           fluid='Water',\n",
    "                           freq=160,\n",
    "                           pressure=1.0)\n",
    "\n",
    "        fluid, points, speed, density, omega, pressure = config['Params']\n",
    "        domain, V, u, v = config['FunctionSpace']\n",
    "        Left, Right, bc = config['Problem']\n",
    "        \n",
    "        problem = fem.petsc.LinearProblem(Left, Right, bcs=[bc])\n",
    "        \n",
    "        start = timeit.default_timer()\n",
    "        uh = problem.solve()\n",
    "        stop = timeit.default_timer()\n",
    "        \n",
    "        u_ex = fem.Function(V)\n",
    "        u_ex.interpolate(u_exact)\n",
    "        \n",
    "        norm_l2_uh = L2_norm(uh)\n",
    "        error = L2_error(uh, u_ex)\n",
    "        \n",
    "        results.append([10 * 2**i, norm_l2_uh, error, np.nan, stop - start])\n",
    "                  \n",
    "        if len(results) > 2:\n",
    "            results[-1][3] = np.log2((results[-3][2] - results[-2][2])/(results[-2][2] - results[-1][2]))\n",
    "        \n",
    "    return results"
   ]
  },
  {
   "cell_type": "code",
   "execution_count": 12,
   "id": "a7844c01-da98-4d7e-997d-07aab2cbd653",
   "metadata": {},
   "outputs": [
    {
     "data": {
      "text/html": [
       "<div>\n",
       "<style scoped>\n",
       "    .dataframe tbody tr th:only-of-type {\n",
       "        vertical-align: middle;\n",
       "    }\n",
       "\n",
       "    .dataframe tbody tr th {\n",
       "        vertical-align: top;\n",
       "    }\n",
       "\n",
       "    .dataframe thead th {\n",
       "        text-align: right;\n",
       "    }\n",
       "</style>\n",
       "<table border=\"1\" class=\"dataframe\">\n",
       "  <thead>\n",
       "    <tr style=\"text-align: right;\">\n",
       "      <th></th>\n",
       "      <th>||u_h||</th>\n",
       "      <th>error</th>\n",
       "      <th>k</th>\n",
       "      <th>time</th>\n",
       "    </tr>\n",
       "    <tr>\n",
       "      <th>N</th>\n",
       "      <th></th>\n",
       "      <th></th>\n",
       "      <th></th>\n",
       "      <th></th>\n",
       "    </tr>\n",
       "  </thead>\n",
       "  <tbody>\n",
       "    <tr>\n",
       "      <th>10</th>\n",
       "      <td>1.492846e-09</td>\n",
       "      <td>1.179467e-10</td>\n",
       "      <td>NaN</td>\n",
       "      <td>0.000482</td>\n",
       "    </tr>\n",
       "    <tr>\n",
       "      <th>20</th>\n",
       "      <td>1.552151e-09</td>\n",
       "      <td>3.284039e-11</td>\n",
       "      <td>NaN</td>\n",
       "      <td>0.000347</td>\n",
       "    </tr>\n",
       "    <tr>\n",
       "      <th>40</th>\n",
       "      <td>1.570885e-09</td>\n",
       "      <td>8.460551e-12</td>\n",
       "      <td>1.803577</td>\n",
       "      <td>0.000406</td>\n",
       "    </tr>\n",
       "    <tr>\n",
       "      <th>80</th>\n",
       "      <td>1.575851e-09</td>\n",
       "      <td>2.131528e-12</td>\n",
       "      <td>1.945634</td>\n",
       "      <td>0.000349</td>\n",
       "    </tr>\n",
       "    <tr>\n",
       "      <th>160</th>\n",
       "      <td>1.577110e-09</td>\n",
       "      <td>5.339185e-13</td>\n",
       "      <td>1.986068</td>\n",
       "      <td>0.000389</td>\n",
       "    </tr>\n",
       "    <tr>\n",
       "      <th>320</th>\n",
       "      <td>1.577426e-09</td>\n",
       "      <td>1.335446e-13</td>\n",
       "      <td>1.996495</td>\n",
       "      <td>0.000631</td>\n",
       "    </tr>\n",
       "    <tr>\n",
       "      <th>640</th>\n",
       "      <td>1.577506e-09</td>\n",
       "      <td>3.339021e-14</td>\n",
       "      <td>1.999122</td>\n",
       "      <td>0.000539</td>\n",
       "    </tr>\n",
       "    <tr>\n",
       "      <th>1280</th>\n",
       "      <td>1.577525e-09</td>\n",
       "      <td>8.347805e-15</td>\n",
       "      <td>1.999781</td>\n",
       "      <td>0.000827</td>\n",
       "    </tr>\n",
       "    <tr>\n",
       "      <th>2560</th>\n",
       "      <td>1.577530e-09</td>\n",
       "      <td>2.087136e-15</td>\n",
       "      <td>1.999984</td>\n",
       "      <td>0.001583</td>\n",
       "    </tr>\n",
       "    <tr>\n",
       "      <th>5120</th>\n",
       "      <td>1.577532e-09</td>\n",
       "      <td>5.214641e-16</td>\n",
       "      <td>1.999535</td>\n",
       "      <td>0.002101</td>\n",
       "    </tr>\n",
       "    <tr>\n",
       "      <th>10240</th>\n",
       "      <td>1.577532e-09</td>\n",
       "      <td>1.292508e-16</td>\n",
       "      <td>1.997071</td>\n",
       "      <td>0.003524</td>\n",
       "    </tr>\n",
       "    <tr>\n",
       "      <th>20480</th>\n",
       "      <td>1.577532e-09</td>\n",
       "      <td>4.229779e-17</td>\n",
       "      <td>2.173331</td>\n",
       "      <td>0.011535</td>\n",
       "    </tr>\n",
       "    <tr>\n",
       "      <th>40960</th>\n",
       "      <td>1.577532e-09</td>\n",
       "      <td>1.785124e-17</td>\n",
       "      <td>1.830605</td>\n",
       "      <td>0.019947</td>\n",
       "    </tr>\n",
       "    <tr>\n",
       "      <th>81920</th>\n",
       "      <td>1.577532e-09</td>\n",
       "      <td>1.170976e-17</td>\n",
       "      <td>1.992971</td>\n",
       "      <td>0.032114</td>\n",
       "    </tr>\n",
       "  </tbody>\n",
       "</table>\n",
       "</div>"
      ],
      "text/plain": [
       "            ||u_h||         error         k      time\n",
       "N                                                    \n",
       "10     1.492846e-09  1.179467e-10       NaN  0.000482\n",
       "20     1.552151e-09  3.284039e-11       NaN  0.000347\n",
       "40     1.570885e-09  8.460551e-12  1.803577  0.000406\n",
       "80     1.575851e-09  2.131528e-12  1.945634  0.000349\n",
       "160    1.577110e-09  5.339185e-13  1.986068  0.000389\n",
       "320    1.577426e-09  1.335446e-13  1.996495  0.000631\n",
       "640    1.577506e-09  3.339021e-14  1.999122  0.000539\n",
       "1280   1.577525e-09  8.347805e-15  1.999781  0.000827\n",
       "2560   1.577530e-09  2.087136e-15  1.999984  0.001583\n",
       "5120   1.577532e-09  5.214641e-16  1.999535  0.002101\n",
       "10240  1.577532e-09  1.292508e-16  1.997071  0.003524\n",
       "20480  1.577532e-09  4.229779e-17  2.173331  0.011535\n",
       "40960  1.577532e-09  1.785124e-17  1.830605  0.019947\n",
       "81920  1.577532e-09  1.170976e-17  1.992971  0.032114"
      ]
     },
     "execution_count": 12,
     "metadata": {},
     "output_type": "execute_result"
    }
   ],
   "source": [
    "cdata = calc_convergence(14)\n",
    "cdf = pd.DataFrame(cdata, columns=['N', '||u_h||', 'error', 'k', 'time']).set_index('N')\n",
    "cdf"
   ]
  },
  {
   "cell_type": "code",
   "execution_count": null,
   "id": "10844c55-47be-4164-bb57-b37b1dc7f3c4",
   "metadata": {},
   "outputs": [],
   "source": []
  }
 ],
 "metadata": {
  "kernelspec": {
   "display_name": "Python 3 (ipykernel)",
   "language": "python",
   "name": "python3"
  },
  "language_info": {
   "codemirror_mode": {
    "name": "ipython",
    "version": 3
   },
   "file_extension": ".py",
   "mimetype": "text/x-python",
   "name": "python",
   "nbconvert_exporter": "python",
   "pygments_lexer": "ipython3",
   "version": "3.10.4"
  }
 },
 "nbformat": 4,
 "nbformat_minor": 5
}
